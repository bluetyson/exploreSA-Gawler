{
 "cells": [
  {
   "cell_type": "markdown",
   "metadata": {},
   "source": [
    "## Mineral Deposit Data Analysis\n",
    "\n",
    "This notebook load and analyze the mineral deposit data. "
   ]
  },
  {
   "cell_type": "markdown",
   "metadata": {},
   "source": [
    "### load data\n",
    "This section imports the required packages, download the dataset from the website and list the file names. As below, the data_loc is where the data set will be saved. To save storage space, the dataset won't be extracted as a folder. The data procesing will be done based via reading corresponding file contained in the zip file.  "
   ]
  },
  {
   "cell_type": "code",
   "execution_count": null,
   "metadata": {
    "ExecuteTime": {
     "end_time": "2020-05-02T14:29:07.808363Z",
     "start_time": "2020-05-02T14:29:07.792405Z"
    }
   },
   "outputs": [],
   "source": [
    "# import required packages\n",
    "import pandas as pd\n",
    "import os\n",
    "import pickle\n",
    "import sys\n",
    "pd.options.display.width=None\n",
    "pd.options.display.max_columns=None\n",
    "\n",
    "\n",
    "if sys.version_info >= (3, 6):\n",
    "    from zipfile import ZipFile as zipfile\n",
    "else:\n",
    "    import zipfile36 as zipfile\n",
    "    \n",
    "url = \"https://unearthed-exploresa.s3-ap-southeast-2.amazonaws.com/Unearthed_5_SARIG_Data_Package.zip\" \n",
    "# enter the directory to save data\n",
    "data_loc = './data'\n",
    "file_name = 'Unearthed_5_SARIG_Data_Package.zip'\n",
    "\n",
    "if os.path.isfile(os.path.join(data_loc, file_name)):\n",
    "    print (\"File exist\")\n",
    "    pass\n",
    "else:\n",
    "    # open and save the zip file onto computer\n",
    "    url = urlopen(URL)\n",
    "    output = open('./data/Unearthed_5_SARIG_Data_Package.zip', 'wb')    # note the flag:  \"wb\"        \n",
    "    output.write(url.read())\n",
    "    output.close()\n",
    "    \n",
    "files_in_dataset = []\n",
    "file_name = 'Unearthed_5_SARIG_Data_Package.zip'\n",
    "for file in zipfile(os.path.join(data_loc, file_name),'r').filelist:\n",
    "    files_in_dataset.append(file.filename)\n",
    "    \n",
    "files_in_dataset\n",
    "\n"
   ]
  },
  {
   "cell_type": "markdown",
   "metadata": {},
   "source": [
    " For this part of data cleaning, we will only use the following files: \n",
    " - 'SARIG_Data_Package/sarig_md_commodity_exp.csv',\n",
    " - 'SARIG_Data_Package/sarig_md_details_exp.csv',\n",
    " - 'SARIG_Data_Package/sarig_md_mineralogy_exp.csv',\n",
    " - 'SARIG_Data_Package/sarig_md_reference_exp.csv',\n",
    " - 'SARIG_Data_Package/sarig_md_zone_hr_lith_exp.csv',\n",
    " - 'SARIG_Data_Package/sarig_md_zone_lith_exp.csv'"
   ]
  },
  {
   "cell_type": "markdown",
   "metadata": {},
   "source": [
    "### determine the record identifier"
   ]
  },
  {
   "cell_type": "code",
   "execution_count": null,
   "metadata": {
    "ExecuteTime": {
     "end_time": "2020-05-02T14:29:08.544392Z",
     "start_time": "2020-05-02T14:29:08.349914Z"
    }
   },
   "outputs": [],
   "source": [
    "# read the reference data\n",
    "sarig_md_reference_exp = pd.read_csv(\n",
    "    zipfile(os.path.join(data_loc, file_name),'r').open('SARIG_Data_Package/sarig_md_reference_exp.csv','r'), \n",
    "    sep=',', encoding='latin1')\n",
    "sarig_md_reference_exp['PUBLICATION_DATE'] = pd.to_datetime(sarig_md_reference_exp['PUBLICATION_DATE'])\n",
    "sarig_md_reference_exp.head(3)"
   ]
  },
  {
   "cell_type": "code",
   "execution_count": null,
   "metadata": {
    "ExecuteTime": {
     "end_time": "2020-05-02T14:29:08.563341Z",
     "start_time": "2020-05-02T14:29:08.547386Z"
    }
   },
   "outputs": [],
   "source": [
    "sarig_md_reference_exp.info()"
   ]
  },
  {
   "cell_type": "code",
   "execution_count": null,
   "metadata": {
    "ExecuteTime": {
     "end_time": "2020-05-02T14:29:08.583288Z",
     "start_time": "2020-05-02T14:29:08.566336Z"
    }
   },
   "outputs": [],
   "source": [
    "sarig_md_reference_exp.isnull().any()"
   ]
  },
  {
   "cell_type": "markdown",
   "metadata": {},
   "source": [
    "Since the columns \"MINERAL_DEPOSIT_NO\",  \"SITE_NO\", \"LONGITUDE_GDA2020\", \"LATITUDE_GDA2020\" contain no null values, they are potential identifier of records in the following analysis. "
   ]
  },
  {
   "cell_type": "code",
   "execution_count": null,
   "metadata": {
    "ExecuteTime": {
     "end_time": "2020-05-02T14:29:08.689006Z",
     "start_time": "2020-05-02T14:29:08.670057Z"
    }
   },
   "outputs": [],
   "source": [
    "# decide the uniqueness\n",
    "print(len(sarig_md_reference_exp['MINERAL_DEPOSIT_NO'].unique()), len(sarig_md_reference_exp['SITE_NO'].unique()))\n",
    "print(len(sarig_md_reference_exp[['LONGITUDE_GDA2020', 'LATITUDE_GDA2020']].drop_duplicates()))\n",
    "print(len(sarig_md_reference_exp[['LONGITUDE_GDA2020', 'LATITUDE_GDA2020']].drop_duplicates()))\n"
   ]
  },
  {
   "cell_type": "markdown",
   "metadata": {},
   "source": [
    "Here, the unique values of 'MINERAL_DEPOSIT_NO' and 'SITE_NO' are equal but they are different from that of ['LONGITUDE_GDA2020', 'LATITUDE_GDA2020']. There might be distinct 'MINERAL_DEPOSIT_NO' or 'SITE_NO' correspond to the same longitude and latitude. This should be investigated. "
   ]
  },
  {
   "cell_type": "code",
   "execution_count": null,
   "metadata": {
    "ExecuteTime": {
     "end_time": "2020-05-02T14:29:09.017157Z",
     "start_time": "2020-05-02T14:29:08.989204Z"
    }
   },
   "outputs": [],
   "source": [
    "# remove the duplicates \n",
    "site_lon_lat = sarig_md_reference_exp[['MINERAL_DEPOSIT_NO','SITE_NO', 'LONGITUDE_GDA2020', 'LATITUDE_GDA2020']].drop_duplicates()\n",
    "\n",
    "# count the records corresponding to the same longitude and latitude\n",
    "count_site = site_lon_lat.groupby(by=['LONGITUDE_GDA2020', 'LATITUDE_GDA2020']).count()\n",
    "\n",
    "# find these cooridinates\n",
    "ifentified_lon_lat = count_site[count_site['MINERAL_DEPOSIT_NO']!=1].reset_index()[['LONGITUDE_GDA2020', 'LATITUDE_GDA2020']]"
   ]
  },
  {
   "cell_type": "code",
   "execution_count": null,
   "metadata": {
    "ExecuteTime": {
     "end_time": "2020-05-02T14:29:09.368193Z",
     "start_time": "2020-05-02T14:29:09.020123Z"
    }
   },
   "outputs": [],
   "source": [
    "sarig_md_reference_exp.merge(ifentified_lon_lat, how='inner', on=['LONGITUDE_GDA2020', 'LATITUDE_GDA2020']).set_index(['LONGITUDE_GDA2020', 'LATITUDE_GDA2020'])"
   ]
  },
  {
   "cell_type": "markdown",
   "metadata": {
    "ExecuteTime": {
     "end_time": "2020-04-18T04:16:04.937158Z",
     "start_time": "2020-04-18T04:16:04.930161Z"
    }
   },
   "source": [
    "From above, we can see there are three cases where two MINERAL_DEPOSIT_NO share the same set of (LONGITUDE, LATITUDE). This might be the case where TWO sites (with different SITE_NO, MINERAL_DEPOSIT_NO) have the same coordinates. The following data provides evidence for this guess. "
   ]
  },
  {
   "cell_type": "code",
   "execution_count": null,
   "metadata": {
    "ExecuteTime": {
     "end_time": "2020-05-02T14:29:09.676373Z",
     "start_time": "2020-05-02T14:29:09.371184Z"
    }
   },
   "outputs": [],
   "source": [
    "# the set of the MINERAL_DEPOSIT_NO which share cordinates\n",
    "sarig_md_reference_exp.merge(\n",
    "    ifentified_lon_lat, how='inner', \n",
    "    on=['LONGITUDE_GDA2020', 'LATITUDE_GDA2020']).set_index(\n",
    "    ['LONGITUDE_GDA2020', 'LATITUDE_GDA2020'])['MINERAL_DEPOSIT_NO'].values"
   ]
  },
  {
   "cell_type": "markdown",
   "metadata": {},
   "source": [
    "### Commodities \n",
    "\n",
    "This section identifies the set of commodity names and allows the users of this code to select the commodities for which they want to extract related data"
   ]
  },
  {
   "cell_type": "code",
   "execution_count": null,
   "metadata": {
    "ExecuteTime": {
     "end_time": "2020-05-02T14:29:09.740195Z",
     "start_time": "2020-05-02T14:29:09.680358Z"
    }
   },
   "outputs": [],
   "source": [
    "sarig_md_commodity_exp = pd.read_csv(\n",
    "    zipfile(os.path.join(data_loc, file_name),'r').open('SARIG_Data_Package/sarig_md_commodity_exp.csv','r'), \n",
    "    sep=',', encoding='latin1')\n",
    "sarig_md_commodity_exp.head(5)"
   ]
  },
  {
   "cell_type": "code",
   "execution_count": null,
   "metadata": {
    "ExecuteTime": {
     "end_time": "2020-05-02T14:29:09.768121Z",
     "start_time": "2020-05-02T14:29:09.742192Z"
    }
   },
   "outputs": [],
   "source": [
    "sarig_md_commodity_exp.loc[sarig_md_commodity_exp['MINERAL_DEPOSIT_NO'].isin([3612,  3612,  3717,  3717,  7104,  7105, 10516, 10517])]"
   ]
  },
  {
   "cell_type": "markdown",
   "metadata": {
    "ExecuteTime": {
     "end_time": "2020-04-18T04:48:19.596387Z",
     "start_time": "2020-04-18T04:48:19.590433Z"
    }
   },
   "source": [
    "The same coordinate but different MINERAL_DEPOSIT_NO, as well as different DEPOSIT_NAME. This proves the guess that some sites (SITE_NO, MINERAL_DEPOSIT_NO) actually share coordinates. This fact also suggest that we should use SITE_NO or MINERAL_DEPOSIT_NO as record identifier o records. "
   ]
  },
  {
   "cell_type": "code",
   "execution_count": null,
   "metadata": {
    "ExecuteTime": {
     "end_time": "2020-05-02T14:29:09.926696Z",
     "start_time": "2020-05-02T14:29:09.912736Z"
    }
   },
   "outputs": [],
   "source": [
    "sarig_md_commodity_exp.info()"
   ]
  },
  {
   "cell_type": "code",
   "execution_count": null,
   "metadata": {
    "ExecuteTime": {
     "end_time": "2020-05-02T14:29:09.935672Z",
     "start_time": "2020-05-02T14:29:09.929690Z"
    }
   },
   "outputs": [],
   "source": [
    "# '''\n",
    "# use this code to generate the set_commodity_name\n",
    "#  sarig_md_commodity_exp['COMMODITY_NAME'].unique()\n",
    "# set_commodity_name = ['Copper', 'Iron', 'Rare Earths', 'Heavy Minerals', \n",
    "#                       'Gold', 'Chrysoprase', 'Cobalt', 'Nickel','Corundum', \n",
    "#                       'Vanadium', 'Ilmenite', 'Chromium', 'Agate', 'Celestite',\n",
    "#                       'Clay', 'Shale', 'Granite', \n",
    "#                       'Ironstone - construction materials', 'Opal', 'Alunite',\n",
    "#                       'Micaceous Hematite', 'Kaolin', 'Dolomite', 'Limestone',\n",
    "#                       'Gravel', 'Sandstone', 'Quartzite', 'Dolerite', \n",
    "#                       'Rhyolite', 'Graphite', 'Magnesite', 'Lead', 'Marble', \n",
    "#                       'Uranium', 'Thorium', 'Asbestos', 'Zinc', 'Talc', \n",
    "#                       'Manganese', 'Sand', 'Gneiss', 'Gabbro', 'Amphibolite', \n",
    "#                       'Beryl', 'Uranium Oxide', 'Iron Ore', 'Silver', 'Schist', \n",
    "#                       'Calcrete', 'Metasiltstone', 'Amazonite', 'Tungsten', \n",
    "#                       'Molybdenum', 'Gypsum', 'Lime sand', 'Phosphate', \n",
    "#                       'Diamond', 'Platinoids', 'Salt', 'Aluminium', 'Tin', \n",
    "#                       'Amethyst', 'Jade', 'Pozzolan (Volcanic Ash)', \n",
    "#                       'Silica sand', 'Sapphire', 'Slate', 'Basalt', \n",
    "#                       'Tourmaline', 'Feldspar', 'Silica', 'Barite', \n",
    "#                       'Calcite', 'Fluorite', 'Kyanite', 'Sulphur', 'Quartz', \n",
    "#                       'Sillimanite', 'Mica', 'Beryllium', 'Pegmatite', \n",
    "#                       'Andalusite', 'Bismuth','Carphosiderite', 'Chiastolite',\n",
    "#                       'Radium', 'Wollastonite', 'Arsenic', 'Garnet', 'Ochre',\n",
    "#                       'Coal', 'Rutile', 'Mercury','Palygorskite', 'Turquoise', \n",
    "#                       'Scholzite', 'Shell grit', 'Topaz','Vermiculite', \n",
    "#                       'Siltstone', 'Norite', 'Magnesium', 'Antimony',\n",
    "#                       'Epsomite', 'Albite', 'Ruby', 'Trona', 'Potash', 'Peat',\n",
    "#                       'Diatomite', 'Tantalum', 'Oil Shale', 'Nephrite', \n",
    "#                       'Allanite', 'Monazite', 'Halloysite', 'Titanium', 'Gas',\n",
    "#                       'Evaporites',  'Geothermal Energy', 'Lithium']\n",
    "# '''\n",
    "# # select the commodities interested from the above commodity names. \n",
    "# commodities_interested = ['Copper', 'Gold']\n"
   ]
  },
  {
   "cell_type": "markdown",
   "metadata": {},
   "source": [
    "Here, we use SITE_NO as record identifier. "
   ]
  },
  {
   "cell_type": "code",
   "execution_count": null,
   "metadata": {
    "ExecuteTime": {
     "end_time": "2020-05-02T14:29:10.205970Z",
     "start_time": "2020-05-02T14:29:10.199969Z"
    }
   },
   "outputs": [],
   "source": [
    "interested_md_commodity_exp = sarig_md_commodity_exp[\n",
    "    ['MINERAL_DEPOSIT_NO', 'COMMODITY_CODE',\n",
    "    'SITE_NO', 'EASTING_GDA2020', 'NORTHING_GDA2020', 'ZONE_GDA2020',\n",
    "    'LONGITUDE_GDA2020', 'LATITUDE_GDA2020', 'LONGITUDE_GDA94',\n",
    "    'LATITUDE_GDA94']]"
   ]
  },
  {
   "cell_type": "markdown",
   "metadata": {},
   "source": [
    "### Mineral Deposit Details Data"
   ]
  },
  {
   "cell_type": "code",
   "execution_count": null,
   "metadata": {
    "ExecuteTime": {
     "end_time": "2020-05-02T14:29:10.629820Z",
     "start_time": "2020-05-02T14:29:10.474237Z"
    }
   },
   "outputs": [],
   "source": [
    "# read the mineral deposit details data\n",
    "sarig_md_details_exp = pd.read_csv(\n",
    "    zipfile(os.path.join(data_loc, file_name),'r').open('SARIG_Data_Package/sarig_md_details_exp.csv','r'), \n",
    "    sep=',', encoding='latin1')\n",
    "sarig_md_details_exp['DISCOVERY_YEAR'] = sarig_md_details_exp['DISCOVERY_YEAR'].astype('Int64')\n",
    "sarig_md_details_exp.head(5)"
   ]
  },
  {
   "cell_type": "code",
   "execution_count": null,
   "metadata": {
    "ExecuteTime": {
     "end_time": "2020-05-02T14:29:10.689658Z",
     "start_time": "2020-05-02T14:29:10.632841Z"
    }
   },
   "outputs": [],
   "source": [
    "expand_commodities = sarig_md_details_exp.set_index('MINERAL_DEPOSIT_NO')['COMMODITIES'].str.split(',', expand=True).stack().reset_index().drop('level_1', axis=1)\n",
    "expand_commodities.rename(columns={0: \"COMMODITY_NAME\"}, inplace=True)\n",
    "expand_commodities.head(3)"
   ]
  },
  {
   "cell_type": "code",
   "execution_count": null,
   "metadata": {
    "ExecuteTime": {
     "end_time": "2020-05-02T14:29:10.730551Z",
     "start_time": "2020-05-02T14:29:10.691651Z"
    }
   },
   "outputs": [],
   "source": [
    "expand_md_details_exp = sarig_md_details_exp.merge(expand_commodities, how='left', on='MINERAL_DEPOSIT_NO')\n",
    "expand_md_details_exp.drop('COMMODITIES', axis=1, inplace=True)"
   ]
  },
  {
   "cell_type": "code",
   "execution_count": null,
   "metadata": {
    "ExecuteTime": {
     "end_time": "2020-05-02T14:29:10.742518Z",
     "start_time": "2020-05-02T14:29:10.733543Z"
    }
   },
   "outputs": [],
   "source": [
    "interested_md_details_exp = expand_md_details_exp[['MINERAL_DEPOSIT_NO', 'DEPOSIT_NAME', 'DEPOSIT_SYNONYMS',\n",
    "        'DEPOSIT_CLASS', 'MINEROLOGY_ORE', 'REFERENCE_FLAG', 'MAP_250000', 'MAP_100000', 'MAP_50000', 'SITE_NO',\n",
    "        'ELEVATION_M', 'SURVEY_METHOD_CODE', 'COMMODITY_NAME']]"
   ]
  },
  {
   "cell_type": "markdown",
   "metadata": {},
   "source": [
    "### Load Mineral Deposit Mineralogy Data"
   ]
  },
  {
   "cell_type": "code",
   "execution_count": null,
   "metadata": {
    "ExecuteTime": {
     "end_time": "2020-05-02T14:29:10.902091Z",
     "start_time": "2020-05-02T14:29:10.802359Z"
    },
    "scrolled": true
   },
   "outputs": [],
   "source": [
    "sarig_md_mineralogy_exp = pd.read_csv(\n",
    "    zipfile(os.path.join(data_loc, file_name),'r').open('SARIG_Data_Package/sarig_md_mineralogy_exp.csv','r'), \n",
    "    sep=',', encoding='latin1')\n",
    "sarig_md_mineralogy_exp.head(5)"
   ]
  },
  {
   "cell_type": "code",
   "execution_count": null,
   "metadata": {
    "ExecuteTime": {
     "end_time": "2020-05-02T14:29:10.923038Z",
     "start_time": "2020-05-02T14:29:10.905083Z"
    }
   },
   "outputs": [],
   "source": [
    "interested_md_mineralogy_exp = sarig_md_mineralogy_exp[['MINERAL_DEPOSIT_NO', 'MINERAL_CODE', 'MINERAL',\n",
    "       'MINERAL_TYPE', 'RELATIVE_ABUNDANCE_CODE', 'SITE_NO']]\n",
    "interested_md_mineralogy_exp.head()"
   ]
  },
  {
   "cell_type": "markdown",
   "metadata": {},
   "source": [
    "### Load Mineral Deposit HR Lithology Data"
   ]
  },
  {
   "cell_type": "code",
   "execution_count": null,
   "metadata": {
    "ExecuteTime": {
     "end_time": "2020-05-02T14:29:11.179349Z",
     "start_time": "2020-05-02T14:29:11.119508Z"
    }
   },
   "outputs": [],
   "source": [
    "sarig_md_zone_hr_lith_exp = pd.read_csv(\n",
    "    zipfile(os.path.join(data_loc, file_name),'r').open('SARIG_Data_Package/sarig_md_zone_hr_lith_exp.csv','r'), \n",
    "    sep=',', encoding='latin1')\n",
    "sarig_md_zone_hr_lith_exp.head(5)"
   ]
  },
  {
   "cell_type": "code",
   "execution_count": null,
   "metadata": {
    "ExecuteTime": {
     "end_time": "2020-05-02T14:29:11.206280Z",
     "start_time": "2020-05-02T14:29:11.182348Z"
    }
   },
   "outputs": [],
   "source": [
    "interested_md_zone_hr_lith_exp = sarig_md_zone_hr_lith_exp\n",
    "interested_md_zone_hr_lith_exp.head()"
   ]
  },
  {
   "cell_type": "markdown",
   "metadata": {},
   "source": [
    "### Load Mineral Deposit Lithology Data"
   ]
  },
  {
   "cell_type": "code",
   "execution_count": null,
   "metadata": {
    "ExecuteTime": {
     "end_time": "2020-05-02T14:29:11.496504Z",
     "start_time": "2020-05-02T14:29:11.408737Z"
    }
   },
   "outputs": [],
   "source": [
    "sarig_md_zone_lith_exp = pd.read_csv(\n",
    "    zipfile(os.path.join(data_loc, file_name),'r').open('SARIG_Data_Package/sarig_md_zone_lith_exp.csv','r'), \n",
    "    sep=',', encoding='latin1')\n",
    "sarig_md_zone_lith_exp.head(5)"
   ]
  },
  {
   "cell_type": "code",
   "execution_count": null,
   "metadata": {
    "ExecuteTime": {
     "end_time": "2020-05-02T14:29:11.531418Z",
     "start_time": "2020-05-02T14:29:11.499493Z"
    }
   },
   "outputs": [],
   "source": [
    "interested_md_zone_lith_exp = sarig_md_zone_lith_exp\n",
    "interested_md_zone_lith_exp.head(5)"
   ]
  },
  {
   "cell_type": "markdown",
   "metadata": {},
   "source": [
    "### Save the data set extracted from mineral deposit dataset for the selected commodities"
   ]
  },
  {
   "cell_type": "code",
   "execution_count": null,
   "metadata": {
    "ExecuteTime": {
     "end_time": "2020-05-02T14:29:12.453972Z",
     "start_time": "2020-05-02T14:29:11.676023Z"
    },
    "run_control": {
     "marked": false
    }
   },
   "outputs": [],
   "source": [
    "extract_mineral_deposit = sarig_md_commodity_exp.merge(\n",
    "    interested_md_details_exp, \n",
    "    how='left', \n",
    "    on=['SITE_NO', 'MINERAL_DEPOSIT_NO'],\n",
    "    suffixes=('', '_details'))\n",
    "extract_mineral_deposit = extract_mineral_deposit.merge(\n",
    "    interested_md_mineralogy_exp, \n",
    "    how='inner', \n",
    "    on=['SITE_NO', 'MINERAL_DEPOSIT_NO'])\n",
    "extract_mineral_deposit = interested_md_commodity_exp.merge(\n",
    "    interested_md_details_exp, \n",
    "    how='inner', \n",
    "    on=['SITE_NO', 'MINERAL_DEPOSIT_NO'],\n",
    "    suffixes=('', '_details'))\n",
    "extract_mineral_deposit.to_csv(\n",
    "    'mineral_deposit_details.csv', \n",
    "    sep=',', \n",
    "    header='infer')\n",
    "\n",
    "interested_md_zone = interested_md_zone_hr_lith_exp.merge(\n",
    "    interested_md_zone_lith_exp,  \n",
    "    how='inner', \n",
    "    on=['SITE_NO', 'MINERAL_DEPOSIT_NO'],\n",
    "    suffixes=('_hr', '_zone'))\n",
    "interested_md_zone.to_csv(\n",
    "    'interested_md_zone.csv', \n",
    "    sep=',', \n",
    "    header='infer')"
   ]
  },
  {
   "cell_type": "code",
   "execution_count": null,
   "metadata": {
    "ExecuteTime": {
     "end_time": "2020-05-02T14:29:12.642466Z",
     "start_time": "2020-05-02T14:29:12.455936Z"
    }
   },
   "outputs": [],
   "source": [
    "mineral_deposit_details = pd.read_csv(\n",
    "    'mineral_deposit_details.csv', \n",
    "    sep=',', \n",
    "    header='infer')\n",
    "interested_md_zone = pd.read_csv(\n",
    "    'interested_md_zone.csv', \n",
    "    sep=',', \n",
    "    header='infer')"
   ]
  },
  {
   "cell_type": "code",
   "execution_count": null,
   "metadata": {
    "ExecuteTime": {
     "end_time": "2020-05-02T14:29:17.993163Z",
     "start_time": "2020-05-02T14:29:12.645431Z"
    }
   },
   "outputs": [],
   "source": [
    "# # load the required SITE_NO from the csv file extracted from the rs_data.\n",
    "path = '.\\\\data'\n",
    "for directory in os.listdir(path):\n",
    "    if os.path.isfile(os.path.join(path, directory)):\n",
    "        pass\n",
    "    else:\n",
    "        new_path = os.path.join(path, directory)\n",
    "\n",
    "        if os.path.exists(os.path.join(new_path, 'rs_chem_site_sample_num.csv')):\n",
    "            rs_chem_site_sample_num = pd.read_csv(\n",
    "                os.path.join(new_path, 'rs_chem_site_sample_num.csv'), \n",
    "                header='infer', \n",
    "                sep=',')['SITE_NO'].drop_duplicates()\n",
    "            #print('read rs_chem_site_sample_num.csv successfully.')\n",
    "\n",
    "            extract_mineral_deposit = mineral_deposit_details.merge(\n",
    "                rs_chem_site_sample_num, how='inner', on='SITE_NO')\n",
    "\n",
    "            extract_mineral_deposit = extract_mineral_deposit.merge(\n",
    "                interested_md_zone, \n",
    "                how='left', \n",
    "                on=['SITE_NO', 'MINERAL_DEPOSIT_NO'],\n",
    "                suffixes=('', '_zone')\n",
    "            )\n",
    "\n",
    "            extract_mineral_deposit.to_csv(os.path.join(new_path,'extract_mineral_deposit.csv'), sep=',', header='infer') \n",
    "        else:\n",
    "            pass"
   ]
  }
 ],
 "metadata": {
  "hide_input": false,
  "kernelspec": {
   "display_name": "Python 3",
   "language": "python",
   "name": "python3"
  },
  "language_info": {
   "codemirror_mode": {
    "name": "ipython",
    "version": 3
   },
   "file_extension": ".py",
   "mimetype": "text/x-python",
   "name": "python",
   "nbconvert_exporter": "python",
   "pygments_lexer": "ipython3",
   "version": "3.6.8"
  },
  "latex_envs": {
   "LaTeX_envs_menu_present": true,
   "autoclose": false,
   "autocomplete": true,
   "bibliofile": "biblio.bib",
   "cite_by": "apalike",
   "current_citInitial": 1,
   "eqLabelWithNumbers": true,
   "eqNumInitial": 1,
   "hotkeys": {
    "equation": "Ctrl-E",
    "itemize": "Ctrl-I"
   },
   "labels_anchors": false,
   "latex_user_defs": false,
   "report_style_numbering": false,
   "user_envs_cfg": false
  },
  "toc": {
   "base_numbering": 1,
   "nav_menu": {},
   "number_sections": true,
   "sideBar": true,
   "skip_h1_title": false,
   "title_cell": "Table of Contents",
   "title_sidebar": "Contents",
   "toc_cell": false,
   "toc_position": {},
   "toc_section_display": true,
   "toc_window_display": false
  },
  "varInspector": {
   "cols": {
    "lenName": 16,
    "lenType": 16,
    "lenVar": 40
   },
   "kernels_config": {
    "python": {
     "delete_cmd_postfix": "",
     "delete_cmd_prefix": "del ",
     "library": "var_list.py",
     "varRefreshCmd": "print(var_dic_list())"
    },
    "r": {
     "delete_cmd_postfix": ") ",
     "delete_cmd_prefix": "rm(",
     "library": "var_list.r",
     "varRefreshCmd": "cat(var_dic_list()) "
    }
   },
   "types_to_exclude": [
    "module",
    "function",
    "builtin_function_or_method",
    "instance",
    "_Feature"
   ],
   "window_display": false
  }
 },
 "nbformat": 4,
 "nbformat_minor": 4
}
