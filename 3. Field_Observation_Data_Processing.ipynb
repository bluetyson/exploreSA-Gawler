{
 "cells": [
  {
   "cell_type": "markdown",
   "metadata": {},
   "source": [
    "## Surface Observation Data Processing"
   ]
  },
  {
   "cell_type": "code",
   "execution_count": null,
   "metadata": {
    "ExecuteTime": {
     "end_time": "2020-04-20T12:01:58.844066Z",
     "start_time": "2020-04-20T12:01:58.831127Z"
    }
   },
   "outputs": [],
   "source": [
    "# import required packages\n",
    "import pandas as pd\n",
    "import os\n",
    "import pickle\n",
    "import sys\n",
    "pd.options.display.width=None\n",
    "pd.options.display.max_columns=None\n",
    "\n",
    "\n",
    "if sys.version_info >= (3, 6):\n",
    "    from zipfile import ZipFile as zipfile\n",
    "else:\n",
    "    import zipfile36 as zipfile\n",
    "    \n",
    "url = \"https://unearthed-exploresa.s3-ap-southeast-2.amazonaws.com/Unearthed_5_SARIG_Data_Package.zip\" \n",
    "# enter the directory to save data\n",
    "data_loc = './data'\n",
    "file_name = 'Unearthed_5_SARIG_Data_Package.zip'\n",
    "\n",
    "if os.path.isfile(os.path.join(data_loc, file_name)):\n",
    "    print (\"File exist\")\n",
    "    pass\n",
    "else:\n",
    "    # open and save the zip file onto computer\n",
    "    url = urlopen(URL)\n",
    "    output = open('./data/Unearthed_5_SARIG_Data_Package.zip', 'wb')    # note the flag:  \"wb\"        \n",
    "    output.write(url.read())\n",
    "    output.close()\n",
    "    \n",
    "files_in_dataset = []\n",
    "file_name = 'Unearthed_5_SARIG_Data_Package.zip'\n",
    "for file in zipfile(os.path.join(data_loc, file_name),'r').filelist:\n",
    "    files_in_dataset.append(file.filename)\n",
    "    \n",
    "files_in_dataset\n",
    "\n"
   ]
  },
  {
   "cell_type": "markdown",
   "metadata": {},
   "source": [
    "For this part of data cleaning, we will only use the following files: \n",
    " - 'SARIG_Data_Package/sarig_fieldobs_exp.csv',\n",
    " - 'SARIG_Data_Package/sarig_fieldobs_litho_exp.csv',\n",
    " - 'SARIG_Data_Package/sarig_fieldobs_note_exp.csv',\n",
    " - 'SARIG_Data_Package/sarig_fieldobs_struct_exp.csv'"
   ]
  },
  {
   "cell_type": "markdown",
   "metadata": {},
   "source": [
    "### Load Field Observation Data"
   ]
  },
  {
   "cell_type": "code",
   "execution_count": null,
   "metadata": {
    "ExecuteTime": {
     "end_time": "2020-04-20T12:01:59.714735Z",
     "start_time": "2020-04-20T12:01:59.182160Z"
    }
   },
   "outputs": [],
   "source": [
    "# load the field observation summary data\n",
    "sarig_fieldobs_exp = pd.read_csv(\n",
    "    zipfile(os.path.join(data_loc, file_name),'r').open('SARIG_Data_Package/sarig_fieldobs_exp.csv','r'), \n",
    "    sep=',', encoding='latin1')\n",
    "sarig_fieldobs_exp.sample(5)"
   ]
  },
  {
   "cell_type": "code",
   "execution_count": null,
   "metadata": {
    "ExecuteTime": {
     "end_time": "2020-04-20T12:01:59.754629Z",
     "start_time": "2020-04-20T12:01:59.716729Z"
    }
   },
   "outputs": [],
   "source": [
    "interested_fieldobs_exp = sarig_fieldobs_exp[['SITE_NO', 'FIELD_ID', \n",
    "       'LANDFORM_CODE', 'MAP_250000', 'MAP_100000', 'MAP_50000',\n",
    "       'EASTING_GDA2020', 'NORTHING_GDA2020', 'ZONE_GDA2020',\n",
    "       'LONGITUDE_GDA2020', 'LATITUDE_GDA2020', 'LONGITUDE_GDA94',\n",
    "       'LATITUDE_GDA94', 'HORIZ_ACCRCY_M', 'ELEVATION_M', 'VERT_ACCRCY_M',\n",
    "       'SURVEY_METHOD_CODE']]\n",
    "interested_fieldobs_exp.sample(5)"
   ]
  },
  {
   "cell_type": "code",
   "execution_count": null,
   "metadata": {
    "ExecuteTime": {
     "end_time": "2020-04-20T12:01:59.763634Z",
     "start_time": "2020-04-20T12:01:59.757624Z"
    }
   },
   "outputs": [],
   "source": [
    "sarig_fieldobs_exp.columns"
   ]
  },
  {
   "cell_type": "code",
   "execution_count": null,
   "metadata": {
    "ExecuteTime": {
     "end_time": "2020-04-20T12:01:59.838438Z",
     "start_time": "2020-04-20T12:01:59.766597Z"
    }
   },
   "outputs": [],
   "source": [
    "sarig_fieldobs_exp.info()"
   ]
  },
  {
   "cell_type": "markdown",
   "metadata": {},
   "source": [
    "This data table includes the summary of the contents of the field observation dataset. "
   ]
  },
  {
   "cell_type": "markdown",
   "metadata": {},
   "source": [
    "### Load the Field Observation Lithology Data"
   ]
  },
  {
   "cell_type": "code",
   "execution_count": null,
   "metadata": {
    "ExecuteTime": {
     "end_time": "2020-04-20T12:02:00.355030Z",
     "start_time": "2020-04-20T12:01:59.840399Z"
    }
   },
   "outputs": [],
   "source": [
    "sarig_fieldobs_litho_exp = pd.read_csv(\n",
    "    zipfile(os.path.join(data_loc, file_name),'r').open('SARIG_Data_Package/sarig_fieldobs_litho_exp.csv','r'), \n",
    "    sep=',', encoding='latin1')\n",
    "sarig_fieldobs_litho_exp['STRAT_UNIT_NO'] = sarig_fieldobs_litho_exp['STRAT_UNIT_NO'].astype('Int64')\n",
    "sarig_fieldobs_litho_exp['OBSERVATION_DATE'] = pd.to_datetime(sarig_fieldobs_litho_exp['OBSERVATION_DATE'])\n",
    "sarig_fieldobs_litho_exp.sample(5)"
   ]
  },
  {
   "cell_type": "code",
   "execution_count": null,
   "metadata": {
    "ExecuteTime": {
     "end_time": "2020-04-20T12:02:00.409911Z",
     "start_time": "2020-04-20T12:02:00.357020Z"
    }
   },
   "outputs": [],
   "source": [
    "sarig_fieldobs_litho_exp.info()"
   ]
  },
  {
   "cell_type": "code",
   "execution_count": null,
   "metadata": {
    "ExecuteTime": {
     "end_time": "2020-04-20T12:02:00.440795Z",
     "start_time": "2020-04-20T12:02:00.412873Z"
    }
   },
   "outputs": [],
   "source": [
    "interested_fieldobs_litho_exp = sarig_fieldobs_litho_exp[\n",
    "    ['SITE_NO', 'LITHOLOGY_NO', 'MAP_SYMBOL', 'GIS_CODE', 'STRAT_UNIT_NO', \n",
    "     'ROCK_GROUP_CODE', 'LITHO_CODE', 'LITHO_CONFIDENCE', 'LITHO_MODIFIER']]\n",
    "interested_fieldobs_litho_exp.sample(5)"
   ]
  },
  {
   "cell_type": "markdown",
   "metadata": {},
   "source": [
    "### Load Field Observation Notes"
   ]
  },
  {
   "cell_type": "code",
   "execution_count": null,
   "metadata": {
    "ExecuteTime": {
     "end_time": "2020-04-20T12:02:00.601365Z",
     "start_time": "2020-04-20T12:02:00.442790Z"
    }
   },
   "outputs": [],
   "source": [
    "sarig_fieldobs_note_exp = pd.read_csv(\n",
    "    zipfile(os.path.join(data_loc, file_name),'r').open('SARIG_Data_Package/sarig_fieldobs_note_exp.csv','r'), \n",
    "    sep=',', encoding='latin1')\n",
    "sarig_fieldobs_litho_exp['OBSERVATION_DATE'] = pd.to_datetime(sarig_fieldobs_litho_exp['OBSERVATION_DATE'])\n",
    "sarig_fieldobs_note_exp.sample(5)"
   ]
  },
  {
   "cell_type": "markdown",
   "metadata": {},
   "source": [
    "The FIELD_NOTES are words, which might require text mining, while these FIELD_NOTES does not give too much insight into the ores. So, we ignore this table. "
   ]
  },
  {
   "cell_type": "markdown",
   "metadata": {},
   "source": [
    "### Load Field Observation Geological Structure Data "
   ]
  },
  {
   "cell_type": "code",
   "execution_count": null,
   "metadata": {
    "ExecuteTime": {
     "end_time": "2020-04-20T12:02:01.046178Z",
     "start_time": "2020-04-20T12:02:00.604359Z"
    }
   },
   "outputs": [],
   "source": [
    "sarig_fieldobs_struct_exp = pd.read_csv(\n",
    "    zipfile(os.path.join(data_loc, file_name),'r').open('SARIG_Data_Package/sarig_fieldobs_struct_exp.csv','r'), \n",
    "    sep=',', encoding='latin1')\n",
    "sarig_fieldobs_struct_exp.sample(5)"
   ]
  },
  {
   "cell_type": "code",
   "execution_count": null,
   "metadata": {
    "ExecuteTime": {
     "end_time": "2020-04-20T12:02:01.104056Z",
     "start_time": "2020-04-20T12:02:01.048170Z"
    }
   },
   "outputs": [],
   "source": [
    "sarig_fieldobs_struct_exp.info()"
   ]
  },
  {
   "cell_type": "code",
   "execution_count": null,
   "metadata": {
    "ExecuteTime": {
     "end_time": "2020-04-20T12:02:01.117986Z",
     "start_time": "2020-04-20T12:02:01.106014Z"
    }
   },
   "outputs": [],
   "source": [
    "interest_fieldobs_struct_exp = sarig_fieldobs_struct_exp[['SITE_NO', 'LITHOLOGY_NO', 'STRUCTURE_NO', 'STRUCTRE_CODE', \n",
    "    'LOCAL_GENERATION', 'OROGENY', 'REGIONAL_GENERATION', 'AZIMUTH', \n",
    "    'AZIMUTH_ACCURACY', 'AZIMUTH_MEASUREMENT_TYPE', 'INCLINATION', \n",
    "    'INCLINATION_ACCURACY']]"
   ]
  },
  {
   "cell_type": "markdown",
   "metadata": {},
   "source": [
    "### Merge Data Tables"
   ]
  },
  {
   "cell_type": "code",
   "execution_count": null,
   "metadata": {
    "ExecuteTime": {
     "end_time": "2020-04-20T12:02:01.312463Z",
     "start_time": "2020-04-20T12:02:01.121976Z"
    }
   },
   "outputs": [],
   "source": [
    "merged_fieldobs_exp = interested_fieldobs_exp.merge(\n",
    "    interested_fieldobs_litho_exp, how='inner', on='SITE_NO').merge(\n",
    "    interest_fieldobs_struct_exp, how='inner', on=['SITE_NO','LITHOLOGY_NO'])"
   ]
  },
  {
   "cell_type": "code",
   "execution_count": null,
   "metadata": {
    "ExecuteTime": {
     "end_time": "2020-04-20T12:02:01.378317Z",
     "start_time": "2020-04-20T12:02:01.314461Z"
    }
   },
   "outputs": [],
   "source": [
    "merged_fieldobs_exp.sample(10)"
   ]
  },
  {
   "cell_type": "code",
   "execution_count": null,
   "metadata": {
    "ExecuteTime": {
     "end_time": "2020-04-20T12:02:01.420176Z",
     "start_time": "2020-04-20T12:02:01.381281Z"
    }
   },
   "outputs": [],
   "source": [
    "merged_fieldobs_exp.info()"
   ]
  },
  {
   "cell_type": "markdown",
   "metadata": {},
   "source": [
    "### Export Merged Dataset"
   ]
  },
  {
   "cell_type": "code",
   "execution_count": null,
   "metadata": {
    "ExecuteTime": {
     "end_time": "2020-04-20T12:02:02.930167Z",
     "start_time": "2020-04-20T12:02:01.422198Z"
    }
   },
   "outputs": [],
   "source": [
    "path = '.\\\\data'\n",
    "for directory in os.listdir(path):\n",
    "    if os.path.isfile(os.path.join(path, directory)):\n",
    "        pass\n",
    "    else:\n",
    "        new_path = os.path.join(path, directory)\n",
    "        merged_fieldobs_exp.to_csv(\n",
    "            os.path.join(new_path, 'merged_fieldobs_exp.csv'), \n",
    "            sep=',', \n",
    "            header='infer')"
   ]
  }
 ],
 "metadata": {
  "hide_input": false,
  "kernelspec": {
   "display_name": "Python 3",
   "language": "python",
   "name": "python3"
  },
  "language_info": {
   "codemirror_mode": {
    "name": "ipython",
    "version": 3
   },
   "file_extension": ".py",
   "mimetype": "text/x-python",
   "name": "python",
   "nbconvert_exporter": "python",
   "pygments_lexer": "ipython3",
   "version": "3.6.8"
  },
  "latex_envs": {
   "LaTeX_envs_menu_present": true,
   "autoclose": false,
   "autocomplete": true,
   "bibliofile": "biblio.bib",
   "cite_by": "apalike",
   "current_citInitial": 1,
   "eqLabelWithNumbers": true,
   "eqNumInitial": 1,
   "hotkeys": {
    "equation": "Ctrl-E",
    "itemize": "Ctrl-I"
   },
   "labels_anchors": false,
   "latex_user_defs": false,
   "report_style_numbering": false,
   "user_envs_cfg": false
  },
  "toc": {
   "base_numbering": 1,
   "nav_menu": {},
   "number_sections": true,
   "sideBar": true,
   "skip_h1_title": false,
   "title_cell": "Table of Contents",
   "title_sidebar": "Contents",
   "toc_cell": false,
   "toc_position": {},
   "toc_section_display": true,
   "toc_window_display": false
  },
  "varInspector": {
   "cols": {
    "lenName": 16,
    "lenType": 16,
    "lenVar": 40
   },
   "kernels_config": {
    "python": {
     "delete_cmd_postfix": "",
     "delete_cmd_prefix": "del ",
     "library": "var_list.py",
     "varRefreshCmd": "print(var_dic_list())"
    },
    "r": {
     "delete_cmd_postfix": ") ",
     "delete_cmd_prefix": "rm(",
     "library": "var_list.r",
     "varRefreshCmd": "cat(var_dic_list()) "
    }
   },
   "types_to_exclude": [
    "module",
    "function",
    "builtin_function_or_method",
    "instance",
    "_Feature"
   ],
   "window_display": false
  }
 },
 "nbformat": 4,
 "nbformat_minor": 4
}
